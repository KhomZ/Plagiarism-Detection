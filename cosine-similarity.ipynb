{
 "cells": [
  {
   "cell_type": "code",
   "execution_count": 27,
   "metadata": {
    "collapsed": false
   },
   "outputs": [
    {
     "name": "stdout",
     "output_type": "stream",
     "text": [
      "similarity between the documents is:  0.336096927276\n"
     ]
    }
   ],
   "source": [
    "from sklearn.feature_extraction.text import CountVectorizer\n",
    "from sklearn.feature_extraction.text import TfidfTransformer\n",
    "from sklearn.metrics.pairwise import cosine_similarity\n",
    "data_set= (\"The sky is blue.\", \"The sun is bright.\")\n",
    "\n",
    "count_vect = CountVectorizer()\n",
    "term_freq_matrix=count_vect.fit_transform(data_set)\n",
    "#print(count_vect.vocabulary_,'\\n')\n",
    "\n",
    "tfidf = TfidfTransformer()\n",
    "tf_idf_matrix = tfidf.fit_transform(term_freq_matrix)\n",
    "#print (tf_idf_matrix.todense(),'\\n')\n",
    "\n",
    "similarity=cosine_similarity(tf_idf_matrix[0:1], tf_idf_matrix[1:2])\n",
    "print('similarity between the documents is: ',similarity[0][0])"
   ]
  }
 ],
 "metadata": {
  "kernelspec": {
   "display_name": "Python 3",
   "language": "python",
   "name": "python3"
  },
  "language_info": {
   "codemirror_mode": {
    "name": "ipython",
    "version": 3
   },
   "file_extension": ".py",
   "mimetype": "text/x-python",
   "name": "python",
   "nbconvert_exporter": "python",
   "pygments_lexer": "ipython3",
   "version": "3.5.1"
  }
 },
 "nbformat": 4,
 "nbformat_minor": 0
}
