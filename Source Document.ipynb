{
 "cells": [
  {
   "cell_type": "code",
   "execution_count": 3,
   "metadata": {
    "collapsed": false
   },
   "outputs": [
    {
     "name": "stdout",
     "output_type": "stream",
     "text": [
      "Enter a category: alt.atheism\n",
      "\n",
      "A random document is selected from the category  alt.atheism\n",
      "\n",
      " From: stank@cbnewsl.cb.att.com (Stan Krieger)\n",
      "Subject: Re: [soc.motss, et al.] \"Princeton axes matching funds for Boy Scouts\"\n",
      "Article-I.D.: cbnewsl.1993Apr6.041343.24997\n",
      "Organization: Summit NJ\n",
      "Lines: 39\n",
      "\n",
      "student writes:\n",
      "\n",
      ">Somewhere, roger colin shouse writes about \"radical gay dogma.\"  Somewhere else\n",
      ">he claims not to claim to have a claim to knowing those he doesn't know.\n",
      ">There are at least twenty instances of this kind of muddleheaded fourth-\n",
      ">reich-sophistique shit in his postings.  Maybe more.  In fact I'm not sure\n",
      ">the instances could be counted, because they reproduce like a virus the more\n",
      ">you consider his words.\n",
      ">\tMy question is this: what is the best response to weasels like\n",
      ">shouse and Stan Krieger?  Possibilities:\n",
      ">\t(a) study them dispassionately and figure out how they work, then\n",
      ">(1) remember what you've learned so as to combat them when they or their clones\n",
      ">get into office\n",
      ">(2) contribute your insights to your favorite abnormal psych ward\n",
      ">\t(b) learn to overcome your repugnance for serial murder\n",
      "\n",
      "This posting is totally uncalled for in rec.scouting.\n",
      "\n",
      "The point has been raised and has been answered.  Roger and I have\n",
      "clearly stated our support of the BSA position on the issue;\n",
      "specifically, that homosexual behavior constitutes a violation of\n",
      "the Scout Oath (specifically, the promise to live \"morally straight\").\n",
      "\n",
      "There is really nothing else to discuss.  Trying to cloud the issue\n",
      "with comparisons to Blacks or other minorities is also meaningless\n",
      "because it's like comparing apples to oranges (i.e., people can't\n",
      "control their race but they can control their behavior).\n",
      "\n",
      "What else is there to possibly discuss on rec.scouting on this issue?\n",
      "Nobody, including BSA, is denying anybody the right to live and/or\n",
      "worship as they please or don't please,  but it doesn't mean that BSA\n",
      "is the big bad wolf for adhering to the recognized, positive, religious\n",
      "and moral standards on which our society has been established and on\n",
      "which it should continue to be based.\n",
      "-- \n",
      "Stan Krieger                 All opinions, advice, or suggestions, even\n",
      "UNIX System Laboratories     if related to my employment, are my own.\n",
      "Summit, NJ\n",
      "smk@usl.com\n",
      "\n"
     ]
    }
   ],
   "source": [
    "from sklearn.datasets import fetch_20newsgroups\n",
    "import random\n",
    "\n",
    "categories = ['alt.atheism','comp.graphics','sci.med','soc.religion.christian']\n",
    "twenty_train = fetch_20newsgroups(subset='train',categories=categories, shuffle=True, random_state=42)\n",
    "\n",
    "#user will select a category from which the source document will be selected\n",
    "src_category=input('Enter a category: ')         \n",
    "for (idx,val) in enumerate(twenty_train.target_names):\n",
    "    if (val==src_category):\n",
    "        src_category_index=idx\n",
    "\n",
    "docs_of_src_category=[]          #this list contains the index of all documents of the category user entered\n",
    "for (idx,val) in enumerate(twenty_train.data):        \n",
    "    if(twenty_train.target[idx]==src_category_index):\n",
    "        docs_of_src_category.extend([idx])\n",
    "        \n",
    "random_index=random.randrange(0,len(docs_of_src_category))\n",
    "src_index=docs_of_src_category[random_index]  #this is the original index(index in 20 newsgroup dataset) of the randomly selected source document \n",
    "\n",
    "print('\\nA random document is selected from the category ',src_category,' as the source document')\n",
    "print('\\n',twenty_train.data[src_index])\n"
   ]
  }
 ],
 "metadata": {
  "kernelspec": {
   "display_name": "Python 3",
   "language": "python",
   "name": "python3"
  },
  "language_info": {
   "codemirror_mode": {
    "name": "ipython",
    "version": 3
   },
   "file_extension": ".py",
   "mimetype": "text/x-python",
   "name": "python",
   "nbconvert_exporter": "python",
   "pygments_lexer": "ipython3",
   "version": "3.5.1"
  }
 },
 "nbformat": 4,
 "nbformat_minor": 0
}
