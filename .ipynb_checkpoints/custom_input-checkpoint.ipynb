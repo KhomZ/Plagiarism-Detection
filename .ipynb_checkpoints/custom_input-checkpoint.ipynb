{
 "cells": [
  {
   "cell_type": "code",
   "execution_count": 3,
   "metadata": {
    "collapsed": false
   },
   "outputs": [
    {
     "name": "stdout",
     "output_type": "stream",
     "text": [
      "Enter the first document here: computer programming is a great tool. it can be very powerful.there are many programming languages like java,python etc.\n",
      "Enter the second document here: python is a very popular programming language. in fact it's becoming one of my favourites.it can be used in so many ways that it amages me.\n",
      "The similarity between 2 documents is:  0.276253093639\n"
     ]
    }
   ],
   "source": [
    "from sklearn.feature_extraction.text import CountVectorizer\n",
    "from sklearn.feature_extraction.text import TfidfTransformer\n",
    "from sklearn.metrics.pairwise import cosine_similarity\n",
    "\n",
    "doc1=input('Enter the first document here: ')\n",
    "doc2=input('Enter the second document here: ')\n",
    "data_set=(doc1,doc2)\n",
    "\n",
    "count_vect = CountVectorizer()\n",
    "term_freq_matrix=count_vect.fit_transform(data_set)\n",
    "\n",
    "tfidf = TfidfTransformer()\n",
    "tf_idf_matrix = tfidf.fit_transform(term_freq_matrix)\n",
    "\n",
    "similarity=cosine_similarity(tf_idf_matrix[0], tf_idf_matrix[1])\n",
    "print('The similarity between 2 documents is: ',similarity[0][0])"
   ]
  }
 ],
 "metadata": {
  "kernelspec": {
   "display_name": "Python 3",
   "language": "python",
   "name": "python3"
  },
  "language_info": {
   "codemirror_mode": {
    "name": "ipython",
    "version": 3
   },
   "file_extension": ".py",
   "mimetype": "text/x-python",
   "name": "python",
   "nbconvert_exporter": "python",
   "pygments_lexer": "ipython3",
   "version": "3.5.1"
  }
 },
 "nbformat": 4,
 "nbformat_minor": 0
}
