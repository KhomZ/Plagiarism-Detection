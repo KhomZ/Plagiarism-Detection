{
 "cells": [
  {
   "cell_type": "code",
   "execution_count": null,
   "metadata": {
    "collapsed": false
   },
   "outputs": [],
   "source": [
    "from sklearn.datasets import fetch_20newsgroups\n",
    "import random\n",
    "\n",
    "categories = ['alt.atheism','comp.graphics','sci.med','soc.religion.christian']\n",
    "twenty_train = fetch_20newsgroups(subset='train',categories=categories, shuffle=True, random_state=42)\n",
    "\n",
    "#user will select a category from which the source document will be selected\n",
    "src_category=input('Enter a category: ')         \n",
    "for (idx,val) in enumerate(twenty_train.target_names):\n",
    "    if (val==src_category):\n",
    "        src_category_index=idx\n",
    "\n",
    "docs_of_src_category=[]          #this list contains the index of all documents of the category user entered\n",
    "for (idx,val) in enumerate(twenty_train.data):        \n",
    "    if(twenty_train.target[idx]==src_category_index):\n",
    "        docs_of_src_category.extend([idx])\n",
    "        \n",
    "random_index=random.randrange(0,len(docs_of_src_category))\n",
    "src_index=docs_of_src_category[random_index]\n",
    "\n",
    "print('\\n',twenty_train.data[docs_of_src_category[random_index]])\n"
   ]
  }
 ],
 "metadata": {
  "kernelspec": {
   "display_name": "Python 3",
   "language": "python",
   "name": "python3"
  },
  "language_info": {
   "codemirror_mode": {
    "name": "ipython",
    "version": 3
   },
   "file_extension": ".py",
   "mimetype": "text/x-python",
   "name": "python",
   "nbconvert_exporter": "python",
   "pygments_lexer": "ipython3",
   "version": "3.5.1"
  }
 },
 "nbformat": 4,
 "nbformat_minor": 0
}
