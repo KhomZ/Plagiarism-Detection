{
 "cells": [
  {
   "cell_type": "code",
   "execution_count": 3,
   "metadata": {
    "collapsed": false
   },
   "outputs": [
    {
     "name": "stdout",
     "output_type": "stream",
     "text": [
      "<class 'tuple'>\n",
      "{'young': 9, 'hood': 2, 'bright': 1, 'the': 8, 'sky': 6, 'sun': 7, 'blue': 0, 'robin': 5, 'is': 3, 'man': 4} \n",
      "\n",
      "[[1.0, 0.3167594768303376, 0.09776790336663377]]\n",
      "1.0\n"
     ]
    }
   ],
   "source": [
    "from sklearn.feature_extraction.text import CountVectorizer\n",
    "from sklearn.feature_extraction.text import TfidfTransformer\n",
    "from sklearn.metrics.pairwise import cosine_similarity\n",
    "\n",
    "data_set= (\"The sky is blue.\", \"The sun is bright.\")\n",
    "print(type(data_set))\n",
    "\n",
    "count_vect = CountVectorizer()\n",
    "term_freq_matrix=count_vect.fit_transform(data_set)\n",
    "print(count_vect.vocabulary_,'\\n')\n",
    "#print(term_freq_matrix.todense())\n",
    "\n",
    "tfidf = TfidfTransformer()\n",
    "#print(tfidf.idf_)\n",
    "tf_idf_matrix = tfidf.fit_transform(term_freq_matrix)\n",
    "#print (tf_idf_matrix.todense(),'\\n')\n",
    "\n",
    "sim_array=cosine_similarity(tf_idf_matrix[0:1], tf_idf_matrix)\n",
    "sim_list=sim_array.tolist()\n",
    "print(sim_list)\n",
    "\n",
    "mx=0\n",
    "for i in sim_list[0]:\n",
    "    if (i>mx):\n",
    "        mx=i\n",
    "print(mx)"
   ]
  }
 ],
 "metadata": {
  "kernelspec": {
   "display_name": "Python 3",
   "language": "python",
   "name": "python3"
  },
  "language_info": {
   "codemirror_mode": {
    "name": "ipython",
    "version": 3
   },
   "file_extension": ".py",
   "mimetype": "text/x-python",
   "name": "python",
   "nbconvert_exporter": "python",
   "pygments_lexer": "ipython3",
   "version": "3.5.1"
  }
 },
 "nbformat": 4,
 "nbformat_minor": 0
}
